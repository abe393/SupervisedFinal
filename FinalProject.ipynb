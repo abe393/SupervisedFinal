{
 "cells": [
  {
   "cell_type": "code",
   "execution_count": null,
   "metadata": {},
   "outputs": [],
   "source": []
  },
  {
   "cell_type": "markdown",
   "metadata": {},
   "source": [
    "Problem Description:\n",
    "This project is focused on training an SVM and Neural Network on EKG data to diagnose Arythmias. \n",
    "\n",
    "Background:\n",
    "Electrocardiograms (EKGs) serve as invaluable tools in diagnosing various cardiovascular conditions by recording the electrical activity of the heart. However, interpreting EKG signals can be challenging and often requires expert knowledge. Leveraging the power of machine learning (ML) algorithms presents a promising approach to enhance the accuracy and efficiency of EKG signal analysis. This project aims to develop and implement ML models capable of diagnosing cardiovascular conditions based on EKG signals. By training these models on comprehensive datasets of EKG recordings, we seek to improve diagnostic accuracy, streamline the interpretation process, and potentially aid in early detection of cardiac abnormalities.\n",
    "\n",
    "Objectives:\n",
    "    Collect and curate a diverse dataset of EKG recordings encompassing various cardiac conditions, including arrhythmias, myocardial infarction, and other abnormalities.\n",
    "\n",
    "    Preprocess EKG signals: Implement preprocessing techniques to clean and standardize the EKG data, ensuring consistency.\n",
    "\n",
    "    Feature extraction: Identify relevant features from the preprocessed EKG signals that capture important characteristics indicative of different cardiac conditions.\n",
    "\n",
    "    Model selection and training: Explore a range of ML algorithms such as deep learning models (e.g., convolutional neural networks, recurrent neural networks) and traditional classifiers (e.g., support vector machines, random forests) to determine the most suitable approach for EKG signal classification.\n"
   ]
  },
  {
   "cell_type": "markdown",
   "metadata": {},
   "source": [
    "Exploratory Data Analysis (EDA) Procedure:\n",
    "\n",
    "The dataset used in this project was obtained from Kaggle, accessible at the following link: Georgia 12-Lead ECG Challenge Database.\n",
    "\n",
    "The dataset comprises two types of files: .mat files containing the ECG signals themselves and .hea files containing the corresponding headers. Initially, the .hea files were parsed to extract information about the various cardiac conditions. Only conditions with more than 750 instances were considered for training and testing purposes.\n",
    "\n",
    "Subsequently, the .mat files were processed using the scipy.io.loadmat function to load the ECG signals. The diagnostic labels within the dataset utilized a coded system, which was translated into simpler English for better understanding.\n",
    "\n",
    "Initially, the ECG signals underwent preprocessing involving standardization through a maximum length and padding approach. However, this method yielded undesirable results. Consequently, two alternative methods were employed:\n",
    "\n",
    "Resizing the signals using the signal.resample function.\n",
    "Utilizing the real parts of a Fast Fourier Transform (FFT) function.\n",
    "Both methods ensured standardized signal sizes, with the FFT approach also ensuring time independence.\n",
    "\n",
    "In summary, the EDA procedure involved parsing header files, loading ECG signals from .mat files, translating diagnostic labels, and preprocessing signals using alternative methods to achieve standardization and improve the effectiveness of subsequent analysis."
   ]
  },
  {
   "cell_type": "markdown",
   "metadata": {},
   "source": [
    "Analysis and Training:\n",
    "\n",
    "Originally, this project aimed to compare the performance of Neural Networks versus Support Vector Machines (SVMs) for ECG signal classification. However, the focus shifted to comparing the effectiveness of downsampling versus Fast Fourier Transform (FFT) in preprocessing the data.\n",
    "\n",
    "For each approach, the data was trained using a Support Vector Machine classifier with a train-test split ratio of 80:20, with 80% of the data used for training and 20% for testing.\n",
    "\n",
    "The evaluation of the models was primarily based on accuracy. The accuracy metric was chosen to assess the performance of the classifiers in correctly identifying the cardiac conditions present in the ECG signals.\n",
    "\n",
    "In summary, the analysis involved training Support Vector Machine classifiers using different preprocessing methods (downsampling and FFT) and evaluating their performance based on accuracy. This allowed for a comparison of the efficacy of these methods in classifying ECG signals for diagnostic purposes."
   ]
  }
 ],
 "metadata": {
  "language_info": {
   "name": "python"
  },
  "orig_nbformat": 4
 },
 "nbformat": 4,
 "nbformat_minor": 2
}
